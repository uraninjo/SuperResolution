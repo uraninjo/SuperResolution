{
 "cells": [
  {
   "cell_type": "code",
   "execution_count": null,
   "metadata": {},
   "outputs": [],
   "source": [
    "!pip install opencv-contrib-python\n",
    "!pip install --upgrade opencv-python\n",
    "!pip install --upgrade opencv-contrib-python"
   ]
  },
  {
   "cell_type": "code",
   "execution_count": null,
   "metadata": {},
   "outputs": [],
   "source": [
    "import os\n",
    "import cv2\n",
    "import numpy as np\n",
    "import matplotlib.pyplot as plt\n",
    "import os\n",
    "import time\n",
    "from cv2 import dnn_superres"
   ]
  },
  {
   "cell_type": "code",
   "execution_count": null,
   "metadata": {},
   "outputs": [],
   "source": [
    "def init_super(model, base_path='models'):\n",
    "    \n",
    "    # Define global variable\n",
    "    global sr, model_name, model_scale\n",
    "    \n",
    "    # Create an SR object\n",
    "    sr = dnn_superres.DnnSuperResImpl_create()\n",
    "    \n",
    "    # Define model path\n",
    "    model_path = os.path.join(base_path , model +\".pb\")\n",
    "    \n",
    "    # Extract model name from model path\n",
    "    model_name = model.split('_')[0].lower()\n",
    "    \n",
    "    # Extract model scale from model path\n",
    "    model_scale = int(model.split(\"_\")[1][1])\n",
    "        \n",
    "    # Read the desired model\n",
    "    sr.readModel(model_path)\n",
    "    \n",
    "    sr.setModel(model_name, model_scale)"
   ]
  },
  {
   "cell_type": "code",
   "execution_count": null,
   "metadata": {},
   "outputs": [],
   "source": [
    "def super_res(image, returndata=False, save_img=True, name='test.png', print_shape=True):\n",
    "    \n",
    "    # Upscale the image\n",
    "    Final_Img = sr.upsample(image)\n",
    "    \n",
    "    if  returndata:\n",
    "        return Final_Img\n",
    "    \n",
    "    else:\n",
    "        \n",
    "        if print_shape:\n",
    "            print('Shape of Original Image: {} , Shape of Super Resolution Image: {}'.format(image.shape, Final_Img.shape))\n",
    "            \n",
    "            \n",
    "        if save_img:\n",
    "            cv2.imwrite(\"outputs/\" + name, Final_Img)\n",
    "        \n",
    "        \n",
    "        plt.figure(figsize=[25,25])\n",
    "        plt.subplot(2,1,1);plt.imshow(image[:,:,::-1], interpolation = 'bicubic');plt.title(\"Original Image\");plt.axis(\"off\")\n",
    "        plt.subplot(2,1,2);plt.imshow(Final_Img[:,:,::-1], interpolation = 'bicubic')\n",
    "        plt.title(\"SR Model: {}, Scale: {}x \".format(model_name.upper(), model_scale)); plt.axis(\"off\")"
   ]
  },
  {
   "cell_type": "code",
   "execution_count": null,
   "metadata": {},
   "outputs": [],
   "source": [
    "model_names=os.listdir('models')\n",
    "imgs=os.listdir('data')"
   ]
  },
  {
   "cell_type": "code",
   "execution_count": null,
   "metadata": {},
   "outputs": [],
   "source": [
    "for model in model_names:\n",
    "    for img in imgs:\n",
    "        init_super(model)\n",
    "        image=cv2.imread(f\"data/{foto}\")\n",
    "        Final_Img=super_res(image, name= f'{model_name}_2.jpg')\n",
    "        cv2.imwrite(f\"outputs/{model_name}_{fotonext}.png\", Final_Img)\n"
   ]
  },
  {
   "cell_type": "code",
   "execution_count": null,
   "metadata": {},
   "outputs": [],
   "source": []
  },
  {
   "cell_type": "code",
   "execution_count": null,
   "metadata": {},
   "outputs": [],
   "source": []
  },
  {
   "cell_type": "code",
   "execution_count": null,
   "metadata": {},
   "outputs": [],
   "source": []
  },
  {
   "cell_type": "code",
   "execution_count": null,
   "metadata": {},
   "outputs": [],
   "source": []
  },
  {
   "cell_type": "code",
   "execution_count": null,
   "metadata": {},
   "outputs": [],
   "source": []
  },
  {
   "cell_type": "code",
   "execution_count": null,
   "metadata": {},
   "outputs": [],
   "source": []
  },
  {
   "cell_type": "code",
   "execution_count": null,
   "metadata": {},
   "outputs": [],
   "source": []
  },
  {
   "cell_type": "code",
   "execution_count": null,
   "metadata": {},
   "outputs": [],
   "source": []
  }
 ],
 "metadata": {
  "language_info": {
   "name": "python"
  },
  "orig_nbformat": 4
 },
 "nbformat": 4,
 "nbformat_minor": 2
}
